{
 "cells": [
  {
   "cell_type": "code",
   "execution_count": 10,
   "metadata": {
    "collapsed": false
   },
   "outputs": [
    {
     "name": "stdout",
     "output_type": "stream",
     "text": [
      "[{'faceId': 'dad44515-8684-4649-9768-ef15619c2eb0', 'faceRectangle': {'top': 104, 'left': 25, 'width': 235, 'height': 235}}]\n"
     ]
    }
   ],
   "source": [
    "import cognitive_face as CF\n",
    "\n",
    "KEY = '3462757bd1bb44f2a84c8cd7f1688e1a'  # Replace with a valid Subscription Key here.\n",
    "CF.Key.set(KEY)\n",
    "\n",
    "BASE_URL = 'https://api.cognitive.azure.cn/face/v1.0/'  # Replace with your regional Base URL\n",
    "CF.BaseUrl.set(BASE_URL)\n",
    "\n",
    "img_url = '../dad.png'\n",
    "result = CF.face.detect(img_url)\n",
    "print(result)"
   ]
  },
  {
   "cell_type": "markdown",
   "metadata": {},
   "source": [
    "## create a person_group"
   ]
  },
  {
   "cell_type": "code",
   "execution_count": 12,
   "metadata": {
    "collapsed": false
   },
   "outputs": [
    {
     "ename": "CognitiveFaceException",
     "evalue": "Error when calling Cognitive Face API:\n\tstatus_code: 409\n\tcode: PersonGroupExists\n\tmessage: Person group 'micro' already exists.\n",
     "traceback": [
      "\u001b[0;31m---------------------------------------------------------------------------\u001b[0m",
      "\u001b[0;31mCognitiveFaceException\u001b[0m                    Traceback (most recent call last)",
      "\u001b[0;32m<ipython-input-12-65270870aac4>\u001b[0m in \u001b[0;36m<module>\u001b[0;34m()\u001b[0m\n\u001b[0;32m----> 1\u001b[0;31m \u001b[0mCF\u001b[0m\u001b[0;34m.\u001b[0m\u001b[0mperson_group\u001b[0m\u001b[0;34m.\u001b[0m\u001b[0mcreate\u001b[0m\u001b[0;34m(\u001b[0m\u001b[0;34m\"micro\"\u001b[0m\u001b[0;34m,\u001b[0m\u001b[0;34m\"micro_test\"\u001b[0m\u001b[0;34m)\u001b[0m\u001b[0;34m\u001b[0m\u001b[0m\n\u001b[0m",
      "\u001b[0;32m/usr/local/lib/python3.6/site-packages/cognitive_face/person_group.py\u001b[0m in \u001b[0;36mcreate\u001b[0;34m(person_group_id, name, user_data)\u001b[0m\n\u001b[1;32m     30\u001b[0m     }\n\u001b[1;32m     31\u001b[0m \u001b[0;34m\u001b[0m\u001b[0m\n\u001b[0;32m---> 32\u001b[0;31m     \u001b[0;32mreturn\u001b[0m \u001b[0mutil\u001b[0m\u001b[0;34m.\u001b[0m\u001b[0mrequest\u001b[0m\u001b[0;34m(\u001b[0m\u001b[0;34m'PUT'\u001b[0m\u001b[0;34m,\u001b[0m \u001b[0murl\u001b[0m\u001b[0;34m,\u001b[0m \u001b[0mjson\u001b[0m\u001b[0;34m=\u001b[0m\u001b[0mjson\u001b[0m\u001b[0;34m)\u001b[0m\u001b[0;34m\u001b[0m\u001b[0m\n\u001b[0m\u001b[1;32m     33\u001b[0m \u001b[0;34m\u001b[0m\u001b[0m\n\u001b[1;32m     34\u001b[0m \u001b[0;34m\u001b[0m\u001b[0m\n",
      "\u001b[0;32m/usr/local/lib/python3.6/site-packages/cognitive_face/util.py\u001b[0m in \u001b[0;36mrequest\u001b[0;34m(method, url, data, json, headers, params)\u001b[0m\n\u001b[1;32m    100\u001b[0m             \u001b[0mresponse\u001b[0m\u001b[0;34m.\u001b[0m\u001b[0mstatus_code\u001b[0m\u001b[0;34m,\u001b[0m\u001b[0;34m\u001b[0m\u001b[0m\n\u001b[1;32m    101\u001b[0m             \u001b[0merror_msg\u001b[0m\u001b[0;34m.\u001b[0m\u001b[0mget\u001b[0m\u001b[0;34m(\u001b[0m\u001b[0;34m'code'\u001b[0m\u001b[0;34m)\u001b[0m\u001b[0;34m,\u001b[0m\u001b[0;34m\u001b[0m\u001b[0m\n\u001b[0;32m--> 102\u001b[0;31m             error_msg.get('message'))\n\u001b[0m\u001b[1;32m    103\u001b[0m \u001b[0;34m\u001b[0m\u001b[0m\n\u001b[1;32m    104\u001b[0m     \u001b[0;31m# Prevent `response.json()` complains about empty response.\u001b[0m\u001b[0;34m\u001b[0m\u001b[0;34m\u001b[0m\u001b[0m\n",
      "\u001b[0;31mCognitiveFaceException\u001b[0m: Error when calling Cognitive Face API:\n\tstatus_code: 409\n\tcode: PersonGroupExists\n\tmessage: Person group 'micro' already exists.\n"
     ],
     "output_type": "error"
    }
   ],
   "source": [
    "CF.person_group.create(\"micro\",\"micro_test\")"
   ]
  },
  {
   "cell_type": "markdown",
   "metadata": {},
   "source": [
    "haowei ID\n",
    "{'personId': '1ff379c4-2620-4811-a53b-f49104740cac'}\n",
    "a face\n",
    "{'persistedFaceId': '18447252-ad13-4835-a473-66934cd48a56'}"
   ]
  },
  {
   "cell_type": "code",
   "execution_count": 13,
   "metadata": {
    "collapsed": false
   },
   "outputs": [
    {
     "data": {
      "text/plain": [
       "{'personId': '1ff379c4-2620-4811-a53b-f49104740cac'}"
      ]
     },
     "execution_count": 13,
     "metadata": {},
     "output_type": "execute_result"
    }
   ],
   "source": [
    "CF.person.create(person_group_id=\"micro\",name=\"haowei@17702417859\")"
   ]
  },
  {
   "cell_type": "code",
   "execution_count": 14,
   "metadata": {
    "collapsed": false
   },
   "outputs": [
    {
     "data": {
      "text/plain": [
       "{'persistedFaceId': '18447252-ad13-4835-a473-66934cd48a56'}"
      ]
     },
     "execution_count": 14,
     "metadata": {},
     "output_type": "execute_result"
    }
   ],
   "source": [
    "CF.person.add_face(image='/Users/haowei/Downloads/micro_face/haowei.jpg',person_group_id=\"micro\",person_id='1ff379c4-2620-4811-a53b-f49104740cac')"
   ]
  },
  {
   "cell_type": "code",
   "execution_count": 15,
   "metadata": {
    "collapsed": false
   },
   "outputs": [
    {
     "data": {
      "text/plain": [
       "{}"
      ]
     },
     "execution_count": 15,
     "metadata": {},
     "output_type": "execute_result"
    }
   ],
   "source": [
    "CF.person_group.train(person_group_id='micro')"
   ]
  },
  {
   "cell_type": "markdown",
   "metadata": {},
   "source": [
    "# this is a full example"
   ]
  },
  {
   "cell_type": "code",
   "execution_count": 17,
   "metadata": {
    "collapsed": false
   },
   "outputs": [
    {
     "ename": "SyntaxError",
     "evalue": "invalid syntax (<ipython-input-17-73410f13a8ee>, line 19)",
     "traceback": [
      "\u001b[0;36m  File \u001b[0;32m\"<ipython-input-17-73410f13a8ee>\"\u001b[0;36m, line \u001b[0;32m19\u001b[0m\n\u001b[0;31m    def add_faceToPerson(person_name,img_path)\u001b[0m\n\u001b[0m                                              ^\u001b[0m\n\u001b[0;31mSyntaxError\u001b[0m\u001b[0;31m:\u001b[0m invalid syntax\n"
     ],
     "output_type": "error"
    }
   ],
   "source": [
    "import cognitive_face as CF\n",
    "import json\n",
    "\n",
    "KEY = '3462757bd1bb44f2a84c8cd7f1688e1a'  # Replace with a valid Subscription Key here.\n",
    "CF.Key.set(KEY)\n",
    "BASE_URL = 'https://api.cognitive.azure.cn/face/v1.0/'  # Replace with your regional Base URL\n",
    "CF.BaseUrl.set(BASE_URL)\n",
    "\n",
    "with open('personId.json','r') as f:\n",
    "    personIds = json.load(f)\n",
    "    \n",
    "def create_person(person_name):\n",
    "    if personIds.get(person_name) is not None:\n",
    "        print(\"person already exist,cancel create!\")\n",
    "        return\n",
    "    respon = CF.person.create(person_group_id=\"micro\",name=person_name)\n",
    "    personIds[person_name] = respon['personId']\n",
    "\n",
    "def add_faceToPerson(person_name,img_path):\n",
    "    if personIds.get(person_name) is not None:\n",
    "        print(\"person not exits!\")\n",
    "        return\n",
    "    CF.person.add_face(image=img_path,person_group_id=\"micro\",person_id=personIds[person_name]) "
   ]
  }
 ],
 "metadata": {
  "kernelspec": {
   "display_name": "Python 3",
   "language": "python",
   "name": "python3"
  },
  "language_info": {
   "codemirror_mode": {
    "name": "ipython",
    "version": 3
   },
   "file_extension": ".py",
   "mimetype": "text/x-python",
   "name": "python",
   "nbconvert_exporter": "python",
   "pygments_lexer": "ipython3",
   "version": "3.6.2"
  }
 },
 "nbformat": 4,
 "nbformat_minor": 2
}
